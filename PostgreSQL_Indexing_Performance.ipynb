{
  "cells": [
    {
      "cell_type": "markdown",
      "metadata": {
        "id": "view-in-github",
        "colab_type": "text"
      },
      "source": [
        "<a href=\"https://colab.research.google.com/github/asdacdsfca/DSC80/blob/main/PostgreSQL_Indexing_Performance.ipynb\" target=\"_parent\"><img src=\"https://colab.research.google.com/assets/colab-badge.svg\" alt=\"Open In Colab\"/></a>"
      ]
    },
    {
      "cell_type": "code",
      "execution_count": null,
      "metadata": {
        "colab": {
          "base_uri": "https://localhost:8080/"
        },
        "id": "JqdXFlgxN8Y7",
        "outputId": "d9d3febc-90d8-4eb4-8781-9ad46c5a4585"
      },
      "outputs": [
        {
          "output_type": "stream",
          "name": "stdout",
          "text": [
            "Looking in indexes: https://pypi.org/simple, https://us-python.pkg.dev/colab-wheels/public/simple/\n",
            "Collecting psycopg2-binary\n",
            "  Downloading psycopg2_binary-2.9.6-cp310-cp310-manylinux_2_17_x86_64.manylinux2014_x86_64.whl (3.0 MB)\n",
            "\u001b[2K     \u001b[90m━━━━━━━━━━━━━━━━━━━━━━━━━━━━━━━━━━━━━━━━\u001b[0m \u001b[32m3.0/3.0 MB\u001b[0m \u001b[31m23.3 MB/s\u001b[0m eta \u001b[36m0:00:00\u001b[0m\n",
            "\u001b[?25hCollecting faker\n",
            "  Downloading Faker-18.9.0-py3-none-any.whl (1.7 MB)\n",
            "\u001b[2K     \u001b[90m━━━━━━━━━━━━━━━━━━━━━━━━━━━━━━━━━━━━━━━━\u001b[0m \u001b[32m1.7/1.7 MB\u001b[0m \u001b[31m42.7 MB/s\u001b[0m eta \u001b[36m0:00:00\u001b[0m\n",
            "\u001b[?25hRequirement already satisfied: python-dateutil>=2.4 in /usr/local/lib/python3.10/dist-packages (from faker) (2.8.2)\n",
            "Requirement already satisfied: six>=1.5 in /usr/local/lib/python3.10/dist-packages (from python-dateutil>=2.4->faker) (1.16.0)\n",
            "Installing collected packages: psycopg2-binary, faker\n",
            "Successfully installed faker-18.9.0 psycopg2-binary-2.9.6\n"
          ]
        }
      ],
      "source": [
        "# Install necessary libraries\n",
        "!pip install psycopg2-binary faker"
      ]
    },
    {
      "cell_type": "markdown",
      "metadata": {
        "id": "QPFhXFXcQVew"
      },
      "source": [
        "**Install and setup PostgreSQL**\n",
        "\n",
        "Warning: This notebook is designed to be run in a Google Colab only. It installs packages on the system and requires sudo access. If you want to run it in a local Jupyter notebook, please proceed with caution.\n",
        "\n",
        "In order to demo the usage on Google Colab you will install PostgreSQL server. The password and an empty database is also needed.\n",
        "\n",
        "If you are not running this notebook on Google Colab, or you prefer to use an existing database, please skip the following setup and proceed to the next section."
      ]
    },
    {
      "cell_type": "code",
      "execution_count": null,
      "metadata": {
        "colab": {
          "base_uri": "https://localhost:8080/"
        },
        "id": "VZphICUUOrRK",
        "outputId": "5641d958-cb17-4a39-9ead-3819c96f4617"
      },
      "outputs": [
        {
          "output_type": "stream",
          "name": "stdout",
          "text": [
            "debconf: unable to initialize frontend: Dialog\n",
            "debconf: (No usable dialog-like program is installed, so the dialog based frontend cannot be used. at /usr/share/perl5/Debconf/FrontEnd/Dialog.pm line 76, <> line 10.)\n",
            "debconf: falling back to frontend: Readline\n",
            "debconf: unable to initialize frontend: Readline\n",
            "debconf: (This frontend requires a controlling tty.)\n",
            "debconf: falling back to frontend: Teletype\n",
            "dpkg-preconfigure: unable to re-open stdin: \n",
            "Selecting previously unselected package cron.\n",
            "(Reading database ... 122531 files and directories currently installed.)\n",
            "Preparing to unpack .../0-cron_3.0pl1-136ubuntu1_amd64.deb ...\n",
            "Unpacking cron (3.0pl1-136ubuntu1) ...\n",
            "Selecting previously unselected package logrotate.\n",
            "Preparing to unpack .../1-logrotate_3.14.0-4ubuntu3_amd64.deb ...\n",
            "Unpacking logrotate (3.14.0-4ubuntu3) ...\n",
            "Selecting previously unselected package netbase.\n",
            "Preparing to unpack .../2-netbase_6.1_all.deb ...\n",
            "Unpacking netbase (6.1) ...\n",
            "Selecting previously unselected package postgresql-client-common.\n",
            "Preparing to unpack .../3-postgresql-client-common_214ubuntu0.1_all.deb ...\n",
            "Unpacking postgresql-client-common (214ubuntu0.1) ...\n",
            "Selecting previously unselected package postgresql-client-12.\n",
            "Preparing to unpack .../4-postgresql-client-12_12.14-0ubuntu0.20.04.1_amd64.deb ...\n",
            "Unpacking postgresql-client-12 (12.14-0ubuntu0.20.04.1) ...\n",
            "Selecting previously unselected package ssl-cert.\n",
            "Preparing to unpack .../5-ssl-cert_1.0.39_all.deb ...\n",
            "Unpacking ssl-cert (1.0.39) ...\n",
            "Selecting previously unselected package postgresql-common.\n",
            "Preparing to unpack .../6-postgresql-common_214ubuntu0.1_all.deb ...\n",
            "Adding 'diversion of /usr/bin/pg_config to /usr/bin/pg_config.libpq-dev by postgresql-common'\n",
            "Unpacking postgresql-common (214ubuntu0.1) ...\n",
            "Selecting previously unselected package postgresql-12.\n",
            "Preparing to unpack .../7-postgresql-12_12.14-0ubuntu0.20.04.1_amd64.deb ...\n",
            "Unpacking postgresql-12 (12.14-0ubuntu0.20.04.1) ...\n",
            "Selecting previously unselected package postgresql.\n",
            "Preparing to unpack .../8-postgresql_12+214ubuntu0.1_all.deb ...\n",
            "Unpacking postgresql (12+214ubuntu0.1) ...\n",
            "Selecting previously unselected package sysstat.\n",
            "Preparing to unpack .../9-sysstat_12.2.0-2ubuntu0.2_amd64.deb ...\n",
            "Unpacking sysstat (12.2.0-2ubuntu0.2) ...\n",
            "Setting up logrotate (3.14.0-4ubuntu3) ...\n",
            "Created symlink /etc/systemd/system/timers.target.wants/logrotate.timer → /lib/systemd/system/logrotate.timer.\n",
            "Setting up cron (3.0pl1-136ubuntu1) ...\n",
            "Adding group `crontab' (GID 108) ...\n",
            "Done.\n",
            "invoke-rc.d: could not determine current runlevel\n",
            "invoke-rc.d: policy-rc.d denied execution of start.\n",
            "Created symlink /etc/systemd/system/multi-user.target.wants/cron.service → /lib/systemd/system/cron.service.\n",
            "Setting up ssl-cert (1.0.39) ...\n",
            "debconf: unable to initialize frontend: Dialog\n",
            "debconf: (No usable dialog-like program is installed, so the dialog based frontend cannot be used. at /usr/share/perl5/Debconf/FrontEnd/Dialog.pm line 76.)\n",
            "debconf: falling back to frontend: Readline\n",
            "Setting up netbase (6.1) ...\n",
            "Setting up sysstat (12.2.0-2ubuntu0.2) ...\n",
            "debconf: unable to initialize frontend: Dialog\n",
            "debconf: (No usable dialog-like program is installed, so the dialog based frontend cannot be used. at /usr/share/perl5/Debconf/FrontEnd/Dialog.pm line 76.)\n",
            "debconf: falling back to frontend: Readline\n",
            "\n",
            "Creating config file /etc/default/sysstat with new version\n",
            "update-alternatives: using /usr/bin/sar.sysstat to provide /usr/bin/sar (sar) in auto mode\n",
            "Created symlink /etc/systemd/system/multi-user.target.wants/sysstat.service → /lib/systemd/system/sysstat.service.\n",
            "Setting up postgresql-client-common (214ubuntu0.1) ...\n",
            "Setting up postgresql-client-12 (12.14-0ubuntu0.20.04.1) ...\n",
            "update-alternatives: using /usr/share/postgresql/12/man/man1/psql.1.gz to provide /usr/share/man/man1/psql.1.gz (psql.1.gz) in auto mode\n",
            "Setting up postgresql-common (214ubuntu0.1) ...\n",
            "debconf: unable to initialize frontend: Dialog\n",
            "debconf: (No usable dialog-like program is installed, so the dialog based frontend cannot be used. at /usr/share/perl5/Debconf/FrontEnd/Dialog.pm line 76.)\n",
            "debconf: falling back to frontend: Readline\n",
            "Adding user postgres to group ssl-cert\n",
            "\n",
            "Creating config file /etc/postgresql-common/createcluster.conf with new version\n",
            "Building PostgreSQL dictionaries from installed myspell/hunspell packages...\n",
            "Removing obsolete dictionary files:\n",
            "Created symlink /etc/systemd/system/multi-user.target.wants/postgresql.service → /lib/systemd/system/postgresql.service.\n",
            "invoke-rc.d: could not determine current runlevel\n",
            "invoke-rc.d: policy-rc.d denied execution of start.\n",
            "Setting up postgresql-12 (12.14-0ubuntu0.20.04.1) ...\n",
            "debconf: unable to initialize frontend: Dialog\n",
            "debconf: (No usable dialog-like program is installed, so the dialog based frontend cannot be used. at /usr/share/perl5/Debconf/FrontEnd/Dialog.pm line 76.)\n",
            "debconf: falling back to frontend: Readline\n",
            "Creating new PostgreSQL cluster 12/main ...\n",
            "/usr/lib/postgresql/12/bin/initdb -D /var/lib/postgresql/12/main --auth-local peer --auth-host md5\n",
            "The files belonging to this database system will be owned by user \"postgres\".\n",
            "This user must also own the server process.\n",
            "\n",
            "The database cluster will be initialized with locale \"en_US.UTF-8\".\n",
            "The default database encoding has accordingly been set to \"UTF8\".\n",
            "The default text search configuration will be set to \"english\".\n",
            "\n",
            "Data page checksums are disabled.\n",
            "\n",
            "fixing permissions on existing directory /var/lib/postgresql/12/main ... ok\n",
            "creating subdirectories ... ok\n",
            "selecting dynamic shared memory implementation ... posix\n",
            "selecting default max_connections ... 100\n",
            "selecting default shared_buffers ... 128MB\n",
            "selecting default time zone ... Etc/UTC\n",
            "creating configuration files ... ok\n",
            "running bootstrap script ... ok\n",
            "performing post-bootstrap initialization ... ok\n",
            "syncing data to disk ... ok\n",
            "\n",
            "Success. You can now start the database server using:\n",
            "\n",
            "    pg_ctlcluster 12 main start\n",
            "\n",
            "Ver Cluster Port Status Owner    Data directory              Log file\n",
            "\u001b[31m12  main    5432 down   postgres /var/lib/postgresql/12/main /var/log/postgresql/postgresql-12-main.log\u001b[0m\n",
            "update-alternatives: using /usr/share/postgresql/12/man/man1/postmaster.1.gz to provide /usr/share/man/man1/postmaster.1.gz (postmaster.1.gz) in auto mode\n",
            "invoke-rc.d: could not determine current runlevel\n",
            "invoke-rc.d: policy-rc.d denied execution of start.\n",
            "Setting up postgresql (12+214ubuntu0.1) ...\n",
            "Processing triggers for man-db (2.9.1-1) ...\n",
            "Processing triggers for systemd (245.4-4ubuntu3.21) ...\n",
            " * Starting PostgreSQL 12 database server\n",
            "   ...done.\n",
            "ALTER ROLE\n",
            "NOTICE:  database \"dsc100_demo\" does not exist, skipping\n",
            "DROP DATABASE\n",
            "CREATE DATABASE\n"
          ]
        }
      ],
      "source": [
        "# Install postgresql server\n",
        "!sudo apt-get -y -qq update\n",
        "!sudo apt-get -y -qq install postgresql\n",
        "!sudo service postgresql start\n"
      ]
    },
    {
      "cell_type": "code",
      "source": [
        "\n",
        "# Setup a password `postgres` for username `postgres`\n",
        "!sudo -u postgres psql -U postgres -c \"ALTER USER postgres PASSWORD 'postgres';\"\n",
        "# Setup a database with name `dsc100_demo_demo` to be used\n",
        "!sudo -u postgres psql -U postgres -c 'DROP DATABASE IF EXISTS dsc100_demo;'\n",
        "!sudo -u postgres psql -U postgres -c 'CREATE DATABASE dsc100_demo;'"
      ],
      "metadata": {
        "colab": {
          "base_uri": "https://localhost:8080/"
        },
        "id": "FENKyHiov8u4",
        "outputId": "718afc9c-d0fc-4d80-cac6-f561b4522d50"
      },
      "execution_count": null,
      "outputs": [
        {
          "output_type": "stream",
          "name": "stdout",
          "text": [
            "ALTER ROLE\n",
            "ERROR:  database \"dsc100_demo\" is being accessed by other users\n",
            "DETAIL:  There is 1 other session using the database.\n",
            "ERROR:  database \"dsc100_demo\" already exists\n"
          ]
        }
      ]
    },
    {
      "cell_type": "markdown",
      "metadata": {
        "id": "ZNqgsx85QI9G"
      },
      "source": [
        "Setup necessary environmental variables"
      ]
    },
    {
      "cell_type": "code",
      "execution_count": null,
      "metadata": {
        "colab": {
          "base_uri": "https://localhost:8080/"
        },
        "id": "Q-poiEmUPOHW",
        "outputId": "685a4eea-018d-469a-dc79-b1d681c21d15"
      },
      "outputs": [
        {
          "output_type": "stream",
          "name": "stdout",
          "text": [
            "env: TFIO_DEMO_DATABASE_NAME=tfio_demo\n",
            "env: TFIO_DEMO_DATABASE_HOST=localhost\n",
            "env: TFIO_DEMO_DATABASE_PORT=5432\n",
            "env: TFIO_DEMO_DATABASE_USER=postgres\n",
            "env: TFIO_DEMO_DATABASE_PASS=postgres\n"
          ]
        }
      ],
      "source": [
        "%env TFIO_DEMO_DATABASE_NAME=tfio_demo\n",
        "%env TFIO_DEMO_DATABASE_HOST=localhost\n",
        "%env TFIO_DEMO_DATABASE_PORT=5432\n",
        "%env TFIO_DEMO_DATABASE_USER=postgres\n",
        "%env TFIO_DEMO_DATABASE_PASS=postgres"
      ]
    },
    {
      "cell_type": "markdown",
      "metadata": {
        "id": "6ZGwTlOBQmWq"
      },
      "source": [
        "\n",
        "Now, we need to establish a connection to the PostgreSQL database. "
      ]
    },
    {
      "cell_type": "code",
      "execution_count": null,
      "metadata": {
        "id": "wHbPA5JxOCZ9"
      },
      "outputs": [],
      "source": [
        "# Import necessary libraries\n",
        "import psycopg2\n",
        "from faker import Faker\n",
        "import time\n",
        "import pandas as pd\n",
        "# Connect to your postgres DB\n",
        "\n",
        "import psycopg2\n",
        "conn = psycopg2.connect(\n",
        "    dbname=\"dsc100_demo\",\n",
        "    user=\"postgres\",\n",
        "    password=\"postgres\",\n",
        "    host=\"localhost\",\n",
        "    port=\"5432\"\n",
        ")\n",
        "\n"
      ]
    },
    {
      "cell_type": "markdown",
      "metadata": {
        "id": "s1nTlYgIgwSq"
      },
      "source": [
        "**Let's create a table and populate it with fake data.**"
      ]
    },
    {
      "cell_type": "code",
      "execution_count": null,
      "metadata": {
        "id": "PUJAvom4PVvw"
      },
      "outputs": [],
      "source": [
        "# Open a cursor to perform database operations\n",
        "cur = conn.cursor()\n",
        "# Create a faker instance\n",
        "fake = Faker()\n",
        "# Create a new table\n",
        "cur.execute(\"\"\"\n",
        "    CREATE TABLE IF NOT EXISTS people (\n",
        "        id SERIAL PRIMARY KEY,\n",
        "        name TEXT NOT NULL,\n",
        "        income INTEGER NOT NULL\n",
        "    );\n",
        "\"\"\")\n",
        "\n",
        "# Populate the table with a large amount of data\n",
        "# Populate the table with a large amount of data\n",
        "for _ in range(10000000):  # Adjust the number as needed\n",
        "    cur.execute(\n",
        "        \"INSERT INTO people (name, income) VALUES (%s, %s)\",\n",
        "        (fake.name(), fake.random_int(min=20000, max=200000))\n",
        "    )\n",
        "\n",
        "conn.commit()"
      ]
    },
    {
      "cell_type": "code",
      "execution_count": null,
      "metadata": {
        "colab": {
          "base_uri": "https://localhost:8080/"
        },
        "id": "lellTboLgmLL",
        "outputId": "ed342d83-95fe-40fd-e5d9-719594453cb2"
      },
      "outputs": [
        {
          "output_type": "stream",
          "name": "stdout",
          "text": [
            "(1, 'Michelle Anderson', 66166, 0.45357734)\n",
            "(2, 'Diane Phillips', 164637, 0.70582175)\n",
            "(3, 'Brooke Green', 108043, 0.050003204)\n",
            "(4, 'Kimberly Foley', 159029, 0.78460985)\n",
            "(5, 'Robert Miller', 195392, 0.26985002)\n",
            "(6, 'Michael Brown', 108232, 0.7824021)\n",
            "(7, 'Alexander Wallace IV', 130749, 0.21107778)\n",
            "(8, 'Anthony Shelton', 78693, 0.3413377)\n",
            "(9, 'Rebecca Smith', 185519, 0.4027646)\n",
            "(10, 'Courtney Cook', 66514, 0.46199083)\n"
          ]
        }
      ],
      "source": [
        "cur.execute(\"SELECT * FROM people LIMIT 10\")\n",
        "rows = cur.fetchall()\n",
        "\n",
        "for row in rows:\n",
        "    print(row)"
      ]
    },
    {
      "cell_type": "code",
      "source": [
        "cur.execute(\"SELECT count(*) FROM people\")\n",
        "rows = cur.fetchall()\n",
        "\n",
        "for row in rows:\n",
        "    print(row)"
      ],
      "metadata": {
        "colab": {
          "base_uri": "https://localhost:8080/"
        },
        "id": "cq4SOcZSuibf",
        "outputId": "5a495422-6507-4af4-82ee-a45f639de781"
      },
      "execution_count": null,
      "outputs": [
        {
          "output_type": "stream",
          "name": "stdout",
          "text": [
            "(80975,)\n"
          ]
        }
      ]
    },
    {
      "cell_type": "markdown",
      "metadata": {
        "id": "THpJqZHYQ3uc"
      },
      "source": [
        "**Now, let's create a B-tree index and a hash index on the name field.**"
      ]
    },
    {
      "cell_type": "code",
      "execution_count": null,
      "metadata": {
        "colab": {
          "base_uri": "https://localhost:8080/"
        },
        "id": "pQpzI_oLarBL",
        "outputId": "d6339929-63ae-4437-9b1d-674b0af11616"
      },
      "outputs": [
        {
          "output_type": "stream",
          "name": "stdout",
          "text": [
            "('Seq Scan on people  (cost=0.00..1660.19 rows=80967 width=26) (actual time=0.008..9.212 rows=80975 loops=1)',)\n",
            "('  Filter: (income > 10000)',)\n",
            "('  Buffers: shared hit=648',)\n",
            "('Planning Time: 0.245 ms',)\n",
            "('Execution Time: 12.958 ms',)\n"
          ]
        }
      ],
      "source": [
        "# Import necessary libraries\n",
        "import psycopg2\n",
        "from faker import Faker\n",
        "import time\n",
        "import pandas as pd\n",
        "\n",
        "# Connect to your postgres DB\n",
        "import psycopg2\n",
        "conn = psycopg2.connect(\n",
        "    dbname=\"dsc100_demo\",\n",
        "    user=\"postgres\",\n",
        "    password=\"postgres\",\n",
        "    host=\"localhost\",\n",
        "    port=\"5432\"\n",
        ")\n",
        "\n",
        "# Open a cursor to perform database operations\n",
        "cur = conn.cursor()\n",
        "\n",
        "# Create a faker instance\n",
        "fake = Faker()\n",
        "\n",
        "# Execute the EXPLAIN query\n",
        "cur.execute(\"EXPLAIN (ANALYZE, BUFFERS) SELECT * FROM people WHERE income > 10000\")\n",
        "# The above line executes an EXPLAIN query on the database, providing additional information\n",
        "# about how the database engine plans to execute the SELECT statement.\n",
        "# The ANALYZE keyword is used to include execution time information,\n",
        "# and the BUFFERS keyword is used to include buffer usage information.\n",
        "\n",
        "# Fetch and print the result\n",
        "result = cur.fetchall()\n",
        "# Fetch all the rows returned by the query and store them in the 'result' variable.\n",
        "\n",
        "for row in result:\n",
        "    print(row)\n",
        "    # Iterate over each row in the result and print it.\n"
      ]
    },
    {
      "cell_type": "code",
      "source": [
        "# Function to calculate execution time for a query with multiple runs\n",
        "def calculate_average_execution_time(cur, query, num_executions=10):\n",
        "    total_time = 0\n",
        "    for _ in range(num_executions):\n",
        "        total_time += calculate_execution_time(cur, query)\n",
        "    return total_time / num_executions\n",
        "\n",
        "# Disable indexes and enable sequential scan\n",
        "cur.execute(\"SET enable_seqscan = ON\")\n",
        "cur.execute(\"SET enable_indexscan = OFF\")\n",
        "cur.execute(\"SET enable_bitmapscan = OFF\")\n",
        "\n",
        "\n",
        "# Queries\n",
        "# Modify the value of 199990 to experiment with the output size and observe the changes in trends!\n",
        "queries = [\n",
        "    \"SELECT * FROM people WHERE name = 'John'\",\n",
        "    \"SELECT * FROM people WHERE income > 199990\",\n",
        "    \"SELECT * FROM people WHERE name = 'John' AND income > 199990\"\n",
        "]\n",
        "\n",
        "# Query names for printing and plotting\n",
        "query_names = ['Point Query', 'Range Query', 'Complex Query']\n",
        "\n",
        "# Execution times without index\n",
        "times_without_index = [calculate_average_execution_time(cur, query) for query in queries]\n",
        "\n",
        "# Print execution times without index\n",
        "for name, time in zip(query_names, times_without_index):\n",
        "    print(f\"Execution time for {name} without an index: {time}\")\n",
        "\n",
        "# Create indexes\n",
        "#cur.execute(\"CREATE INDEX idx_people_income ON people USING btree  (income)\")\n",
        "#cur.execute(\"CREATE INDEX idx_people_name ON people USING hash (name)\")\n",
        "#cur.execute(\"CREATE INDEX idx_people_name_income2 ON people(name, income)\")\n",
        "\n",
        "# Enable indexes and disable sequential scan\n",
        "cur.execute(\"SET enable_seqscan = OFF\")\n",
        "cur.execute(\"SET enable_indexscan = ON\")\n",
        "cur.execute(\"SET enable_bitmapscan = ON\")\n",
        "\n",
        "\n",
        "# Execution times with index\n",
        "times_with_index = [calculate_average_execution_time(cur, query) for query in queries]\n",
        "\n",
        "# Print execution times with index\n",
        "for name, time in zip(query_names, times_with_index):\n",
        "    print(f\"Execution time for {name} with an index: {time}\")\n",
        "\n",
        "# Calculate improvement ratios\n",
        "improvement_ratios = [time_without / time_with for time_without, time_with in zip(times_without_index, times_with_index)]\n",
        "\n",
        "# Print improvement ratios\n",
        "for name, ratio in zip(query_names, improvement_ratios):\n",
        "    print(f\"Performance improvement ratio for {name} due to indexing: {ratio}\")\n",
        "\n",
        "# Plotting\n",
        "\n",
        "# set width of bar\n",
        "barWidth = 0.3\n",
        "\n",
        "# Set position of bar on X axis\n",
        "r1 = np.arange(len(times_without_index))\n",
        "r2 = [x + barWidth for x in r1]\n",
        "\n",
        "# Make the plot\n",
        "plt.bar(r1, times_without_index, color='b', width=barWidth, edgecolor='grey', label='without index')\n",
        "plt.bar(r2, times_with_index, color='r', width=barWidth, edgecolor='grey', label='with index')\n",
        "\n",
        "# Add xticks on the middle of the group bars\n",
        "plt.xlabel('Query Type', fontweight='bold')\n",
        "plt.xticks([r + barWidth/2 for r in range(len(times_without_index))], query_names)\n",
        "\n",
        "# Create legend & Show graphic\n",
        "plt.ylabel('Execution Time (seconds - log scale)', fontweight='bold')\n",
        "plt.yscale('log')\n",
        "plt.legend()\n",
        "plt.show()"
      ],
      "metadata": {
        "colab": {
          "base_uri": "https://localhost:8080/",
          "height": 608
        },
        "id": "n398e_DKRL5B",
        "outputId": "65651a2f-6247-4ecc-b6b2-4587df8bd970"
      },
      "execution_count": null,
      "outputs": [
        {
          "output_type": "stream",
          "name": "stdout",
          "text": [
            "Execution time for Point Query without an index: 1197.2477999999999\n",
            "Execution time for Range Query without an index: 1054.1849\n",
            "Execution time for Complex Query without an index: 1263.4987999999998\n",
            "Execution time for Point Query with an index: 0.07620000000000002\n",
            "Execution time for Range Query with an index: 0.7510000000000001\n",
            "Execution time for Complex Query with an index: 0.019100000000000006\n",
            "Performance improvement ratio for Point Query due to indexing: 15711.913385826767\n",
            "Performance improvement ratio for Range Query due to indexing: 1403.7082556591208\n",
            "Performance improvement ratio for Complex Query due to indexing: 66151.76963350782\n"
          ]
        },
        {
          "output_type": "display_data",
          "data": {
            "text/plain": [
              "<Figure size 640x480 with 1 Axes>"
            ],
            "image/png": "[encoded data removed]"
          },
          "metadata": {}
        }
      ]
    },
    {
      "cell_type": "code",
      "execution_count": null,
      "metadata": {
        "colab": {
          "base_uri": "https://localhost:8080/",
          "height": 670
        },
        "id": "tdzMFKxwHIIB",
        "outputId": "1f324c61-a263-4294-a512-0a743238625e"
      },
      "outputs": [
        {
          "output_type": "stream",
          "name": "stdout",
          "text": [
            "Average insertion time before indexes creation:  0.004384677410125732\n",
            "Average deletion time before indexes creation:  1.1918126773834228\n",
            "Average update time before indexes creation:  1.1947698712348938\n",
            "Average insertion time after indexes creation:  0.0032062458992004393\n",
            "Average deletion time after indexes creation:  0.0005511879920959472\n",
            "Average update time after indexes creation:  0.000383760929107666\n"
          ]
        },
        {
          "output_type": "display_data",
          "data": {
            "text/plain": [
              "<Figure size 1000x600 with 1 Axes>"
            ],
            "image/png": "[encoded data removed]"
          },
          "metadata": {}
        }
      ],
      "source": [
        "\n",
        "import time\n",
        "\n",
        "# Drop the index on the income field\n",
        "cur.execute(\"DROP INDEX IF EXISTS idx_people_income\")\n",
        "\n",
        "# Drop the index on the name field\n",
        "cur.execute(\"DROP INDEX IF EXISTS idx_people_name\")\n",
        "\n",
        "# Drop the index on the name and income field\n",
        "cur.execute(\"DROP INDEX IF EXISTS idx_people_name_income\")\n",
        "\n",
        "# Drop the index on the name and income field\n",
        "cur.execute(\"DROP INDEX IF EXISTS idx_people_name_income2\")\n",
        "\n",
        "# Drop the index on the name and income field\n",
        "cur.execute(\"DROP INDEX IF EXISTS idx_people__name_income\")\n",
        "\n",
        "# Drop the index on the name and income field\n",
        "cur.execute(\"DROP INDEX IF EXISTS idx_people_income_name\")\n",
        "\n",
        "# Calculate execution time\n",
        "def calculate_execution_time(cur, query, params):\n",
        "    start_time = time.time()\n",
        "    cur.execute(query, params)\n",
        "    conn.commit()\n",
        "    #print(\"Final Query:\", cur.mogrify(query, params))\n",
        "    return time.time() - start_time\n",
        "\n",
        "# Initialize time sums for insertions, deletions and updates\n",
        "insert_time_before_indexes_sum = 0\n",
        "delete_time_before_indexes_sum = 0\n",
        "update_time_before_indexes_sum = 0\n",
        "\n",
        "insert_time_after_indexes_sum = 0\n",
        "delete_time_after_indexes_sum = 0\n",
        "update_time_after_indexes_sum = 0\n",
        "\n",
        "# Number of iterations\n",
        "iterations = 100\n",
        "\n",
        "# Insertion, deletion and update operations\n",
        "insert_query = \"INSERT INTO people (name, income) VALUES (%s, %s)\"\n",
        "delete_query = \"DELETE FROM people WHERE name LIKE %s\"\n",
        "update_query = \"UPDATE people SET income = income + 5000 WHERE name LIKE %s\"\n",
        "\n",
        "# Perform multiple insertions, deletions and updates before creating indexes\n",
        "for i in range(iterations):\n",
        "    insert_params = (f'John {i}', 50000 + i)\n",
        "    delete_params = (f'J',)\n",
        "    update_params = (f'J',)\n",
        "\n",
        "    insert_time_before_indexes_sum += calculate_execution_time(cur, insert_query, insert_params)\n",
        "    delete_time_before_indexes_sum += calculate_execution_time(cur, delete_query, delete_params)\n",
        "    update_time_before_indexes_sum += calculate_execution_time(cur, update_query, update_params)\n",
        "\n",
        "print(\"Average insertion time before indexes creation: \", insert_time_before_indexes_sum / iterations)\n",
        "print(\"Average deletion time before indexes creation: \", delete_time_before_indexes_sum / iterations)\n",
        "print(\"Average update time before indexes creation: \", update_time_before_indexes_sum / iterations)\n",
        "\n",
        "# Create indexes on the name and income fields\n",
        "cur.execute(\"CREATE INDEX idx_people_name ON people(name)\")\n",
        "cur.execute(\"CREATE INDEX idx_people_income ON people(income)\")\n",
        "cur.execute(\"CREATE INDEX idx_people_income_name ON people(name,income)\")\n",
        "cur.execute(\"CREATE INDEX idx_people__name_income ON people(income, name)\")\n",
        "conn.commit()\n",
        "\n",
        "# Perform multiple insertions, deletions and updates after creating indexes\n",
        "for i in range(iterations, 2*iterations):\n",
        "    insert_params = (f'John {i}', 50000 + i)\n",
        "    delete_params = (f'J',)\n",
        "    update_params = (f'J',)\n",
        "\n",
        "    insert_time_after_indexes_sum += calculate_execution_time(cur, insert_query, insert_params)\n",
        "    delete_time_after_indexes_sum += calculate_execution_time(cur, delete_query, delete_params)\n",
        "    update_time_after_indexes_sum += calculate_execution_time(cur, update_query, update_params)\n",
        "\n",
        "print(\"Average insertion time after indexes creation: \", insert_time_after_indexes_sum / iterations)\n",
        "print(\"Average deletion time after indexes creation: \", delete_time_after_indexes_sum / iterations)\n",
        "print(\"Average update time after indexes creation: \", update_time_after_indexes_sum / iterations)\n",
        "import matplotlib.pyplot as plt\n",
        "import numpy as np\n",
        "\n",
        "# Define a helper function to calculate execution time using EXPLAIN ANALYZE\n",
        "def calculate_execution_time(cur, query):\n",
        "    cur.execute(f\"EXPLAIN ANALYZE {query}\")\n",
        "    result = cur.fetchall()\n",
        "    for row in result:\n",
        "        if 'Execution Time' in row[0]:\n",
        "            execution_time_str = row[0].split('Execution Time:')[1].strip()\n",
        "            execution_time = float(execution_time_str.split(' ')[0])\n",
        "            return execution_time\n",
        "    return None\n",
        "    \n",
        "# Average running times\n",
        "avg_insert_time_before_indexes = insert_time_before_indexes_sum / iterations\n",
        "avg_delete_time_before_indexes = delete_time_before_indexes_sum / iterations\n",
        "avg_update_time_before_indexes = update_time_before_indexes_sum / iterations\n",
        "\n",
        "avg_insert_time_after_indexes = insert_time_after_indexes_sum / iterations\n",
        "avg_delete_time_after_indexes = delete_time_after_indexes_sum / iterations\n",
        "avg_update_time_after_indexes = update_time_after_indexes_sum / iterations\n",
        "\n",
        "# Operations\n",
        "operations = ['Insert', 'Delete', 'Update']\n",
        "\n",
        "# Running times before and after index creation\n",
        "running_times_before_indexes = [avg_insert_time_before_indexes, avg_delete_time_before_indexes, avg_update_time_before_indexes]\n",
        "running_times_after_indexes = [avg_insert_time_after_indexes, avg_delete_time_after_indexes, avg_update_time_after_indexes]\n",
        "\n",
        "# Convert the running times to log scale\n",
        "log_running_times_before_indexes = np.log10(running_times_before_indexes)\n",
        "log_running_times_after_indexes = np.log10(running_times_after_indexes)\n",
        "\n",
        "x = np.arange(len(operations))  # label locations\n",
        "width = 0.35  # width of the bars\n",
        "\n",
        "fig, ax = plt.subplots(figsize=(10, 6))\n",
        "rects1 = ax.bar(x - width/2, log_running_times_before_indexes, width, label='Before index creation')\n",
        "rects2 = ax.bar(x + width/2, log_running_times_after_indexes, width, label='After index creation')\n",
        "\n",
        "# Add some text for labels, title and custom x-axis tick labels, etc.\n",
        "ax.set_xlabel('Operations')\n",
        "ax.set_ylabel('Running time')\n",
        "ax.set_title('Comparison of Running times before and after index creation')\n",
        "ax.set_xticks(x)\n",
        "ax.set_xticklabels(operations)\n",
        "ax.legend()\n",
        "plt.show()\n",
        "\n"
      ]
    }
  ],
  "metadata": {
    "colab": {
      "provenance": [],
      "include_colab_link": true
    },
    "kernelspec": {
      "display_name": "Python 3",
      "name": "python3"
    },
    "language_info": {
      "name": "python"
    }
  },
  "nbformat": 4,
  "nbformat_minor": 0
}